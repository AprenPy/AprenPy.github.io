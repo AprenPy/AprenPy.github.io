{
 "cells": [
  {
   "cell_type": "markdown",
   "metadata": {},
   "source": [
    "# Referencias\n",
    "\n",
    "* Python 3 Object Oriented Programming by Dusty Phillips\n",
    "* http://docs.python.org.ar/tutorial/3/classes.html\n",
    "* https://realpython.com/python3-object-oriented-programming/\n",
    "* https://code.tutsplus.com/articles/python-from-scratch-object-oriented-programming--net-21476\n",
    "* https://www.makeuseof.com/tag/python-object-oriented-programming/\n",
    "* https://www.tutorialspoint.com/python/python_classes_objects.htm\n",
    "* https://www.python-course.eu/python3_object_oriented_programming.php\n",
    "* https://github.com/roostertowel/oop-pygame\n",
    "* https://www.youtube.com/playlist?list=PLQVvvaa0QuDfju7ADVp5W1GF9jVhjbX-_\n",
    "\n",
    "# OOP\n",
    "\n",
    "Es un mecanismo de abstraccción y empaquetamiento donde se busca modelar el comportamiento del mundo real mediante el cual se juntan atributos(datos, caracteristicas) y comportamiento (metodos, acciones, formas de interacción)\n",
    "\n",
    "Al *instanciar* una clase se crea un objeto de tal clase, con atributos propios únicos y los metodos que definen su comportamiento deacuerdo a la clase a la cual pertenece. \n",
    "\n",
    "Cada clase tiene un *ambito* que limitan el uso de variables(atributos) al objeto al que pertenecen\n",
    "\n",
    "al hacer parte de un *modulo* puede haber funciones con el mismo nombre en modulos diferentes, diferenciandolos por el nombre del modulo. "
   ]
  },
  {
   "cell_type": "code",
   "execution_count": null,
   "metadata": {},
   "outputs": [],
   "source": [
    "def prueba_ambitos():\n",
    "    def hacer_local():\n",
    "        algo = \"algo local\"\n",
    "    def hacer_nonlocal():\n",
    "        nonlocal algo\n",
    "        algo = \"algo no local\"\n",
    "    def hacer_global():\n",
    "        global algo\n",
    "        algo = \"algo global\"\n",
    "    algo = \"algo de prueba\"\n",
    "    hacer_local()\n",
    "    print(\"Luego de la asignación local:\", algo)\n",
    "    hacer_nonlocal()\n",
    "    print(\"Luego de la asignación no local:\", algo)\n",
    "    hacer_global()\n",
    "    print(\"Luego de la asignación global:\", algo)\n",
    "\n",
    "prueba_ambitos()\n",
    "print(\"In global scope:\", algo)"
   ]
  },
  {
   "cell_type": "code",
   "execution_count": null,
   "metadata": {},
   "outputs": [],
   "source": [
    "class UnaClase:\n",
    "    \"\"\"Una  clase de ejemplo\"\"\"\n",
    "    valor = \"hola\"\n",
    "    def saludo(self):\n",
    "        return 'hola mundo'\n",
    "    \n",
    "c1 = UnaClase()"
   ]
  },
  {
   "cell_type": "code",
   "execution_count": 1,
   "metadata": {},
   "outputs": [
    {
     "name": "stdout",
     "output_type": "stream",
     "text": [
      "3.0 -4.5\n"
     ]
    }
   ],
   "source": [
    "class Complejo:\n",
    "    def __init__(self, partereal, parteimaginaria):\n",
    "        self.r = partereal\n",
    "        self.i = parteimaginaria\n",
    "x = Complejo(3.0, -4.5)\n",
    "print(x.r, x.i)\n"
   ]
  },
  {
   "cell_type": "markdown",
   "metadata": {},
   "source": [
    "## __init__\n",
    "\n",
    "es un metodo especial que sirve para inicializar los atributos del objeto. Con este metodo se construye el objeto\n",
    "\n",
    "## Self\n",
    "\n",
    "Init siempre requiere usar self como argumento, donde estamos especificando que estamos hablando del mismo objeto que estamos creando"
   ]
  },
  {
   "cell_type": "code",
   "execution_count": null,
   "metadata": {},
   "outputs": [],
   "source": [
    "class Perro:\n",
    "    # variable de clase compartida por todas las instancias\n",
    "    tipo = 'canino'                 \n",
    "    \n",
    "    # variable de instancia única para la instancia\n",
    "    def __init__(self, nombre):\n",
    "        self.nombre = nombre        \n",
    "d = Perro('Fido')\n",
    "e = Perro('Buddy')\n",
    "\n",
    "# compartido por todos los perros\n",
    "print(d.tipo)\n",
    "print(e.tipo)\n",
    "\n",
    "print(d.nombre)                  # único para d\n",
    "print(e.nombre)                  # único para e"
   ]
  },
  {
   "cell_type": "markdown",
   "metadata": {},
   "source": [
    "\n",
    "\n"
   ]
  },
  {
   "cell_type": "markdown",
   "metadata": {},
   "source": [
    "## Pygame"
   ]
  }
 ],
 "metadata": {
  "kernelspec": {
   "display_name": "Python 3",
   "language": "python",
   "name": "python3"
  },
  "language_info": {
   "codemirror_mode": {
    "name": "ipython",
    "version": 3
   },
   "file_extension": ".py",
   "mimetype": "text/x-python",
   "name": "python",
   "nbconvert_exporter": "python",
   "pygments_lexer": "ipython3",
   "version": "3.7.0"
  }
 },
 "nbformat": 4,
 "nbformat_minor": 2
}
