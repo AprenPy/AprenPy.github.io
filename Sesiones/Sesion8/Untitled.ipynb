{
 "cells": [
  {
   "cell_type": "markdown",
   "metadata": {},
   "source": [
    "Recursos\n",
    "\n",
    "https://www.udemy.com/learn-kivy-from-scratch/\n",
    "https://kivy.org\n",
    "https://www.youtube.com/playlist?list=PLdNh1e1kmiPP4YApJm8ENK2yMlwF1_edq\n",
    "https://kivyspacegame.wordpress.com/\n",
    "https://www.amazon.in/s/ref=nb_sb_noss_2?url=search-alias%3Daps&field-keywords=Creating-Apps-Kivy-Mobile-Python\n",
    "\n",
    "https://www.youtube.com/channel/UC3NaNo9j9FKEpFjq0uPM6Dw\n",
    "https://gist.github.com/cuibonobo/10439718\n"
   ]
  }
 ],
 "metadata": {
  "kernelspec": {
   "display_name": "Python 3",
   "language": "python",
   "name": "python3"
  },
  "language_info": {
   "codemirror_mode": {
    "name": "ipython",
    "version": 3
   },
   "file_extension": ".py",
   "mimetype": "text/x-python",
   "name": "python",
   "nbconvert_exporter": "python",
   "pygments_lexer": "ipython3",
   "version": "3.7.0"
  }
 },
 "nbformat": 4,
 "nbformat_minor": 2
}
