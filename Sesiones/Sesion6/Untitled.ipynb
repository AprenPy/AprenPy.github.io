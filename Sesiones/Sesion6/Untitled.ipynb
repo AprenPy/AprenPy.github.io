{
 "cells": [
  {
   "cell_type": "code",
   "execution_count": 4,
   "metadata": {},
   "outputs": [
    {
     "name": "stdout",
     "output_type": "stream",
     "text": [
      "introduzca un num para calcular el promedio, 0 para terminar: 1\n",
      "introduzca un num para calcular el promedio, 0 para terminar: 2\n",
      "introduzca un num para calcular el promedio, 0 para terminar: 5\n",
      "introduzca un num para calcular el promedio, 0 para terminar: 9\n",
      "introduzca un num para calcular el promedio, 0 para terminar: 4\n",
      "introduzca un num para calcular el promedio, 0 para terminar: 0\n",
      "el promedio es 4.2\n"
     ]
    }
   ],
   "source": [
    "val = float(input(\"introduzca un num para calcular el promedio, 0 para terminar: \"))\n",
    "lista = []\n",
    "\n",
    "\n",
    "\n",
    "while(val!=0):\n",
    "    lista.append(val)\n",
    "    val = float(input(\"introduzca un num para calcular el promedio, 0 para terminar: \"))\n",
    "\n",
    "if(len(lista)==0):\n",
    "    print(\"error, la lista no tiene elementos\")\n",
    "else:\n",
    "    print(\"el promedio es {}\".format(sum(lista)/len(lista)))"
   ]
  },
  {
   "cell_type": "markdown",
   "metadata": {},
   "source": [
    "# Ej62"
   ]
  },
  {
   "cell_type": "code",
   "execution_count": 16,
   "metadata": {},
   "outputs": [
    {
     "name": "stdout",
     "output_type": "stream",
     "text": [
      "ingrese los valores separdos por coma: 4.95, 9.95, 14.95, 19.95\n",
      "promoción!!! antes: $4.95 y ahora:2.97!!!!\n",
      "promoción!!! antes: $9.95 y ahora:5.97!!!!\n",
      "promoción!!! antes: $14.95 y ahora:8.97!!!!\n",
      "promoción!!! antes: $19.95 y ahora:11.97!!!!\n"
     ]
    }
   ],
   "source": [
    "lista = input(\"ingrese los valores separdos por coma: \")\n",
    "b = lista.split(\",\")\n",
    "a = [float(i) for i in b]\n",
    "des = [(j*0.6) for j in a]\n",
    "\n",
    "for elemento in range(len(a)):\n",
    "    print(\"antes: ${} y ahora:{:.2f}!!!!\".format(a[elemento],des[elemento]))\n"
   ]
  },
  {
   "cell_type": "code",
   "execution_count": null,
   "metadata": {},
   "outputs": [],
   "source": []
  }
 ],
 "metadata": {
  "kernelspec": {
   "display_name": "Python 3",
   "language": "python",
   "name": "python3"
  },
  "language_info": {
   "codemirror_mode": {
    "name": "ipython",
    "version": 3
   },
   "file_extension": ".py",
   "mimetype": "text/x-python",
   "name": "python",
   "nbconvert_exporter": "python",
   "pygments_lexer": "ipython3",
   "version": "3.7.0"
  }
 },
 "nbformat": 4,
 "nbformat_minor": 2
}
